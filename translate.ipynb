{
  "nbformat": 4,
  "nbformat_minor": 0,
  "metadata": {
    "colab": {
      "name": "translate.ipynb",
      "provenance": [],
      "collapsed_sections": []
    },
    "kernelspec": {
      "name": "python3",
      "display_name": "Python 3"
    }
  },
  "cells": [
    {
      "cell_type": "code",
      "metadata": {
        "id": "L4kEhitZ-Y7X",
        "colab_type": "code",
        "outputId": "603dfea7-fdc4-47c8-abc6-dd3f1e0ece16",
        "colab": {
          "base_uri": "https://localhost:8080/",
          "height": 295
        }
      },
      "source": [
        "!wget https://github.com/wannaphong/dataset-dict/raw/master/lexitron.db"
      ],
      "execution_count": 0,
      "outputs": [
        {
          "output_type": "stream",
          "text": [
            "--2020-03-17 04:24:38--  https://github.com/wannaphong/dataset-dict/raw/master/lexitron.db\n",
            "Resolving github.com (github.com)... 192.30.253.113\n",
            "Connecting to github.com (github.com)|192.30.253.113|:443... connected.\n",
            "HTTP request sent, awaiting response... 302 Found\n",
            "Location: https://raw.githubusercontent.com/wannaphong/dataset-dict/master/lexitron.db [following]\n",
            "--2020-03-17 04:24:39--  https://raw.githubusercontent.com/wannaphong/dataset-dict/master/lexitron.db\n",
            "Resolving raw.githubusercontent.com (raw.githubusercontent.com)... 151.101.0.133, 151.101.64.133, 151.101.128.133, ...\n",
            "Connecting to raw.githubusercontent.com (raw.githubusercontent.com)|151.101.0.133|:443... connected.\n",
            "HTTP request sent, awaiting response... 200 OK\n",
            "Length: 9945088 (9.5M) [application/octet-stream]\n",
            "Saving to: ‘lexitron.db.1’\n",
            "\n",
            "lexitron.db.1       100%[===================>]   9.48M  19.7MB/s    in 0.5s    \n",
            "\n",
            "2020-03-17 04:24:40 (19.7 MB/s) - ‘lexitron.db.1’ saved [9945088/9945088]\n",
            "\n"
          ],
          "name": "stdout"
        }
      ]
    },
    {
      "cell_type": "markdown",
      "metadata": {
        "id": "cdttF7giYvYi",
        "colab_type": "text"
      },
      "source": [
        "1. โหลดพจานานุกรม"
      ]
    },
    {
      "cell_type": "code",
      "metadata": {
        "id": "8en5lETAh1Jy",
        "colab_type": "code",
        "outputId": "f36ab99b-46dd-4938-81ba-2425f8e08e64",
        "colab": {
          "base_uri": "https://localhost:8080/",
          "height": 34
        }
      },
      "source": [
        "!pip install Inflector"
      ],
      "execution_count": 0,
      "outputs": [
        {
          "output_type": "stream",
          "text": [
            "Requirement already satisfied: Inflector in /usr/local/lib/python3.6/dist-packages (3.0.1)\n"
          ],
          "name": "stdout"
        }
      ]
    },
    {
      "cell_type": "code",
      "metadata": {
        "id": "SISr6OrZ-Xad",
        "colab_type": "code",
        "outputId": "def68ef9-b76e-42eb-d632-a54a010ea075",
        "colab": {
          "base_uri": "https://localhost:8080/",
          "height": 86
        }
      },
      "source": [
        "!pip install contractions"
      ],
      "execution_count": 0,
      "outputs": [
        {
          "output_type": "stream",
          "text": [
            "Requirement already satisfied: contractions in /usr/local/lib/python3.6/dist-packages (0.0.24)\n",
            "Requirement already satisfied: textsearch in /usr/local/lib/python3.6/dist-packages (from contractions) (0.0.17)\n",
            "Requirement already satisfied: pyahocorasick in /usr/local/lib/python3.6/dist-packages (from textsearch->contractions) (1.4.0)\n",
            "Requirement already satisfied: Unidecode in /usr/local/lib/python3.6/dist-packages (from textsearch->contractions) (1.1.1)\n"
          ],
          "name": "stdout"
        }
      ]
    },
    {
      "cell_type": "code",
      "metadata": {
        "id": "kFF2tZ0z0LuO",
        "colab_type": "code",
        "outputId": "3f6e2eb1-8e84-410d-84ad-a8f67d22a994",
        "colab": {
          "base_uri": "https://localhost:8080/",
          "height": 243
        }
      },
      "source": [
        "import nltk\n",
        "nltk.download('averaged_perceptron_tagger')\n",
        "nltk.download('universal_tagset')\n",
        "nltk.download('punkt')\n",
        "nltk.download('stopwords')\n",
        "nltk.download('wordnet')"
      ],
      "execution_count": 0,
      "outputs": [
        {
          "output_type": "stream",
          "text": [
            "[nltk_data] Downloading package averaged_perceptron_tagger to\n",
            "[nltk_data]     /root/nltk_data...\n",
            "[nltk_data]   Package averaged_perceptron_tagger is already up-to-\n",
            "[nltk_data]       date!\n",
            "[nltk_data] Downloading package universal_tagset to /root/nltk_data...\n",
            "[nltk_data]   Package universal_tagset is already up-to-date!\n",
            "[nltk_data] Downloading package punkt to /root/nltk_data...\n",
            "[nltk_data]   Package punkt is already up-to-date!\n",
            "[nltk_data] Downloading package stopwords to /root/nltk_data...\n",
            "[nltk_data]   Package stopwords is already up-to-date!\n",
            "[nltk_data] Downloading package wordnet to /root/nltk_data...\n",
            "[nltk_data]   Package wordnet is already up-to-date!\n"
          ],
          "name": "stdout"
        },
        {
          "output_type": "execute_result",
          "data": {
            "text/plain": [
              "True"
            ]
          },
          "metadata": {
            "tags": []
          },
          "execution_count": 219
        }
      ]
    },
    {
      "cell_type": "code",
      "metadata": {
        "id": "cB82EE7Kz8Ke",
        "colab_type": "code",
        "colab": {}
      },
      "source": [
        "from nltk.tag import pos_tag"
      ],
      "execution_count": 0,
      "outputs": []
    },
    {
      "cell_type": "code",
      "metadata": {
        "id": "OK_40le3z-gS",
        "colab_type": "code",
        "colab": {}
      },
      "source": [
        "text = \"I go to a school.\""
      ],
      "execution_count": 0,
      "outputs": []
    },
    {
      "cell_type": "code",
      "metadata": {
        "id": "j1pSWwl10A_y",
        "colab_type": "code",
        "outputId": "bef1413c-219e-42da-cd0a-d31d23d7d1fe",
        "colab": {
          "base_uri": "https://localhost:8080/",
          "height": 121
        }
      },
      "source": [
        "pos_tag(nltk.word_tokenize(text),tagset='universal')"
      ],
      "execution_count": 0,
      "outputs": [
        {
          "output_type": "execute_result",
          "data": {
            "text/plain": [
              "[('I', 'PRON'),\n",
              " ('go', 'VERB'),\n",
              " ('to', 'PRT'),\n",
              " ('a', 'DET'),\n",
              " ('school', 'NOUN'),\n",
              " ('.', '.')]"
            ]
          },
          "metadata": {
            "tags": []
          },
          "execution_count": 222
        }
      ]
    },
    {
      "cell_type": "markdown",
      "metadata": {
        "id": "6hL2n4fq81tV",
        "colab_type": "text"
      },
      "source": [
        "# Build Rule"
      ]
    },
    {
      "cell_type": "code",
      "metadata": {
        "id": "hA4yFBDJ85mo",
        "colab_type": "code",
        "colab": {}
      },
      "source": [
        "#!pip install pythainlp"
      ],
      "execution_count": 0,
      "outputs": []
    },
    {
      "cell_type": "code",
      "metadata": {
        "id": "2q4Os0Cc8701",
        "colab_type": "code",
        "colab": {}
      },
      "source": [
        ""
      ],
      "execution_count": 0,
      "outputs": []
    },
    {
      "cell_type": "markdown",
      "metadata": {
        "id": "HuZi9D9a836m",
        "colab_type": "text"
      },
      "source": [
        "# แปล"
      ]
    },
    {
      "cell_type": "code",
      "metadata": {
        "id": "7j2QjrC_JyHD",
        "colab_type": "code",
        "colab": {}
      },
      "source": [
        "tag2lexitron = {\n",
        "    \"ADJ\" : \"ADJ\",\n",
        "    \"ADP\" : \"PREP\",\n",
        "    \"ADV\" : \"ADV\",\n",
        "    \"AUX\" : \"AUX\",\n",
        "    \"CCONJ\" : \"CONJ\",\n",
        "    \"DET\" : \"DET\",\n",
        "    \"INTJ\" : \"INT\",\n",
        "    \"NOUN\" : \"N\",\n",
        "    \"NUM\" : \"\",\n",
        "    \"PART\" : \"\",\n",
        "    \"PRON\" : \"PRON\",\n",
        "    \"PROPN\" : \"\",\n",
        "    \"PUNCT\" : \"\",\n",
        "    \"SCONJ\" : \"CONJ\",\n",
        "    \"SYM\" : \"\",\n",
        "    \"VERB\" : \"VERB\", # VT VI\n",
        "    \"X\" : \"\",\n",
        "    \".\" : \"\",\n",
        "    \"CONJ\" : \"CONJ\",\n",
        "    \"PRT\":\"PREP\"\n",
        "}"
      ],
      "execution_count": 0,
      "outputs": []
    },
    {
      "cell_type": "code",
      "metadata": {
        "id": "YiPXNumENqlO",
        "colab_type": "code",
        "colab": {}
      },
      "source": [
        "import sqlite3\n",
        "conn = sqlite3.connect('lexitron.db')\n",
        "c = conn.cursor()\n",
        "def word2thai(word:str,tag:str)->str:\n",
        "  word = word.lower()\n",
        "  if tag == '':\n",
        "    find = c.execute(\"SELECT * FROM eng2thai WHERE esearch='%s'\" % (word))\n",
        "  else:\n",
        "    find = c.execute(\"SELECT * FROM eng2thai WHERE esearch='%s' and ecat='%s'\" % (word,tag))\n",
        "  #print(word)\n",
        "  for row in find:\n",
        "    if '(' not in row[3] and 'คำ' not in row[3]:\n",
        "      return row[3]"
      ],
      "execution_count": 0,
      "outputs": []
    },
    {
      "cell_type": "code",
      "metadata": {
        "id": "arJfP-2dNadP",
        "colab_type": "code",
        "colab": {}
      },
      "source": [
        "more_phrases = [\n",
        "                \"khon kaen university\",\n",
        "                \"go to\"\n",
        "]\n",
        "def get_phrases():\n",
        "  find = c.execute(\"SELECT * FROM eng2thai WHERE ecat='IDM'\")\n",
        "  data = []\n",
        "  for row in find:\n",
        "    data.append(tuple(row[1].split(' ')))\n",
        "  for row in more_phrases:\n",
        "    data.append(tuple(row.split(' ')))\n",
        "  return list(set(data))"
      ],
      "execution_count": 0,
      "outputs": []
    },
    {
      "cell_type": "code",
      "metadata": {
        "id": "locz5trge1rt",
        "colab_type": "code",
        "colab": {}
      },
      "source": [
        "from nltk.tokenize import MWETokenizer"
      ],
      "execution_count": 0,
      "outputs": []
    },
    {
      "cell_type": "code",
      "metadata": {
        "id": "uFEyfKhrORo4",
        "colab_type": "code",
        "outputId": "e794f178-eb8d-4122-b465-25180d577b2f",
        "colab": {
          "base_uri": "https://localhost:8080/",
          "height": 34
        }
      },
      "source": [
        "len(get_phrases())"
      ],
      "execution_count": 0,
      "outputs": [
        {
          "output_type": "execute_result",
          "data": {
            "text/plain": [
              "4035"
            ]
          },
          "metadata": {
            "tags": []
          },
          "execution_count": 274
        }
      ]
    },
    {
      "cell_type": "code",
      "metadata": {
        "id": "v3B1euUnOMEJ",
        "colab_type": "code",
        "colab": {}
      },
      "source": [
        "tokenizer = MWETokenizer(get_phrases())"
      ],
      "execution_count": 0,
      "outputs": []
    },
    {
      "cell_type": "code",
      "metadata": {
        "id": "Kt6jlsgQN8v1",
        "colab_type": "code",
        "outputId": "bede8eab-9d1c-465c-9257-c8a90d0bd282",
        "colab": {
          "base_uri": "https://localhost:8080/",
          "height": 34
        }
      },
      "source": [
        "word2thai(\"phone\",\"N\")"
      ],
      "execution_count": 0,
      "outputs": [
        {
          "output_type": "execute_result",
          "data": {
            "text/plain": [
              "'ูโทรศัพท์'"
            ]
          },
          "metadata": {
            "tags": []
          },
          "execution_count": 276
        }
      ]
    },
    {
      "cell_type": "code",
      "metadata": {
        "id": "axrnn3U58bJ8",
        "colab_type": "code",
        "outputId": "0362a6b8-f975-4a14-b0dd-47048097a5c9",
        "colab": {
          "base_uri": "https://localhost:8080/",
          "height": 34
        }
      },
      "source": [
        "print(\"OK\")"
      ],
      "execution_count": 0,
      "outputs": [
        {
          "output_type": "stream",
          "text": [
            "OK\n"
          ],
          "name": "stdout"
        }
      ]
    },
    {
      "cell_type": "code",
      "metadata": {
        "id": "BZO01lnpWiof",
        "colab_type": "code",
        "colab": {}
      },
      "source": [
        "eng2thai = {\n",
        "    \"I\":{\n",
        "        \"PRON\" : \"ฉัน\"\n",
        "    },\n",
        "    \"a\":{\n",
        "        \"DET\" : \"\"\n",
        "    },\n",
        "    \"play\":{\n",
        "        \"VERB\" : \"เล่น\"\n",
        "    },\n",
        "    \"game\":{\n",
        "        \"NOUN\" : \"เกม\"\n",
        "    },\n",
        "    \".\" : {\n",
        "        \".\" : \"\"\n",
        "    },\n",
        "    \"dog\":{\n",
        "        \"NOUN\" : \"สุนัข\"\n",
        "    },\n",
        "    \"child\":{\n",
        "        \"NOUN\" : \"เด็ก\"\n",
        "    },\n",
        "    \"like\":{\n",
        "        \"ADP\" : \"เหมือน\",\n",
        "        \"VERB\" : \"ชอบ\"\n",
        "    },\n",
        "    \"wear\":{\n",
        "        \"NOUN\" : \"ใส่\"\n",
        "    },\n",
        "    \"am\" : {\n",
        "        \"VERB\" : \"\"\n",
        "    },\n",
        "    \"you\" : {\n",
        "        \"PRON\" : \"คุณ\"\n",
        "    },\n",
        "    \"the\" : {\n",
        "        \"DET\" : \"\"\n",
        "    },\n",
        "    \"running\": {\n",
        "        \"VERB\" : \"กำลังวิ่ง\"\n",
        "    },\n",
        "    \"baht\" : {\n",
        "        \"NOUN\" : \"บาท\"\n",
        "    },\n",
        "    \"be\" : {\n",
        "        \"VERB\" : \"เป็น\"\n",
        "    },\n",
        "    \"can\" : {\n",
        "        \"VERB\" : \"สามารถ\"\n",
        "    },\n",
        "    \"this\" : {\n",
        "        \"DET\" : \"สิ่งนี้\"\n",
        "    },\n",
        "    \"khon kaen university\":{\n",
        "        \"NOUN\" : \"มหาวิทยาลัยขอนแก่น\"\n",
        "    },\n",
        "    \"KKU\":{\n",
        "        \"NOUN\" : \"มข.\"\n",
        "    },\n",
        "    \"at\" : {\n",
        "        \"ADP\" : \"ที่\",\n",
        "        \"PREP\" : \"ที่\"\n",
        "    },\n",
        "    \"slang\":{\n",
        "        \"NOUN\" : \"คำสแลง\"\n",
        "    },\n",
        "    \"and\":{\n",
        "        \"CONJ\" : \"และ\"\n",
        "    },\n",
        "    \"American\":{\n",
        "        \"ADJ\":\"คนอเมริกา\"\n",
        "    },\n",
        "    \"Thailand\":{\n",
        "        \"NOUN\":\"ประเทศไทย\"\n",
        "    },\n",
        "    \"Thai\":{\n",
        "        \"NOUN\":\"ไทย\"\n",
        "    },\n",
        "    \"wear\":{\n",
        "        \"VERB\":\"ใส่\"\n",
        "    },\n",
        "    \"nongkhai\":{\n",
        "        \"VERB\":\"จังหวัดหนองคาย\"\n",
        "    }\n",
        "       \n",
        "}"
      ],
      "execution_count": 0,
      "outputs": []
    },
    {
      "cell_type": "code",
      "metadata": {
        "id": "EDtBCfuao3nb",
        "colab_type": "code",
        "colab": {}
      },
      "source": [
        "rule = {\n",
        "    \"PRON VERB NOUN .\" : \"PRON VERB NOUN\",\n",
        "    \"NOUN NOUN2 ADJ NOUN3 .\" : \"NOUN NOUN2 NOUN3 ADJ\",\n",
        "    \"PRON VERB .\" : \"PRON VERB\",\n",
        "    \"PRON NOUN VERB .\" : \"NOUN PRON VERB\",\n",
        "    \"PRON VERB DET .\" : \"DET VERB PRON\",\n",
        "    \"PRON VERB ADV VERB2 DET NOUN\" : \"PRON ADV VERB VERB2 DET NOUN\",\n",
        "    \"PRON VERB ADV VERB2 DET NOUN .\" : \"PRON ADV VERB VERB2 DET NOUN\",\n",
        "    \"PRON VERB ADP PRON2 NOUN .\" : \"PRON VERB ADP NOUN PRON2\",\n",
        "    \"PRON VERB NOUN CONJ NOUN2 NOUN3 .\" : \"PRON VERB NOUN CONJ NOUN3 NOUN2\",\n",
        "    \"CONJ PRON VERB VERB2 ADV .\" : \"CONJ PRON VERB VERB2 ADV\",\n",
        "    \"VERB PRON PRON2 NOUN .\" : \"PRON VERB NOUN PRON2\",\n",
        "    \"PRON VERB ADV PRON2 NOUN .\" : \"PRON ADV VERB NOUN PRON2\",\n",
        "    \"PRON VERB NOUN NOUN2 .\" : \"PRON VERB NOUN NOUN2\",\n",
        "    \"PRON VERB NOUN ADJ NOUN2 .\" : \"PRON VERB NOUN ADJ NOUN2\",\n",
        "    \"PRON VERB VERB2 DET NOUN ADV PRON2 VERB3 PRON3 .\" : \"PRON VERB VERB2 DET NOUN ADV PRON2 VERB3 PRON3\",\n",
        "    \"DET NOUN VERB VERB2 ADV PRON VERB3 PRT DET2 NOUN2 .\" : \"DET NOUN VERB2 VERB ADV PRON VERB3 PRT DET2 NOUN2\",\n",
        "    \"PRON VERB VERB2 NOUN NOUN2 .\" : \"PRON VERB VERB2 NOUN NOUN2\",\n",
        "    \"NOUN NOUN2 . PRON VERB VERB2 VERB3 PRON2 NOUN3 .2\" : \"NOUN NOUN2 PRON VERB NOUN3 PRON2 VERB2 VERB3\",\n",
        "    \"PRON VERB ADV VERB2 NOUN .\":\"PRON ADV VERB VERB2 NOUN .\",\n",
        "    \"PRON VERB ADJ NOUN .\":\"PRON VERB NOUN ADJ\",\n",
        "    \"DET ADJ NOUN VERB PRT VERB2 NOUN2 .\" : \"NOUN ADJ VERB VERB2 NOUN2\"\n",
        "}\n",
        "\n",
        "def sent2thai(listsent:list)->list: # จัดเรียงประโยคภาษาอังกฤษ -> ภาษาไทย [(คำ , ชนิดของคำ),...]\n",
        "  i_d = {}\n",
        "  g = []\n",
        "  d = {}\n",
        " \n",
        "  for i in listsent:\n",
        "    word = i[0]\n",
        "    tag = i[1]\n",
        "    temp=\"\"\n",
        "    if tag not in list(i_d.keys()):\n",
        "      temp = tag\n",
        "      i_d[tag]=2\n",
        "    else:\n",
        "      temp = tag + str(i_d[tag])\n",
        "      i_d[tag]+=1\n",
        "    d[temp] = word\n",
        "    g.append(temp)\n",
        "  print(\" \".join(g))\n",
        "  g=' '.join(g)\n",
        "  if g in list(rule.keys()):\n",
        "    g = rule[g]\n",
        "  print(\" \".join(g))\n",
        "  listnew = g.split(' ')\n",
        "  sent = [d[i] for i in listnew]\n",
        "  return sent"
      ],
      "execution_count": 0,
      "outputs": []
    },
    {
      "cell_type": "code",
      "metadata": {
        "id": "EqmD0ZJSeem1",
        "colab_type": "code",
        "colab": {}
      },
      "source": [
        "from nltk.stem.porter import PorterStemmer\n",
        "stemmer = PorterStemmer()\n",
        "from nltk.stem import WordNetLemmatizer \n",
        "lemmatizer = WordNetLemmatizer()\n",
        "from nltk.corpus import stopwords\n",
        "st= stopwords.words('english')\n",
        "from nltk.stem.snowball import SnowballStemmer\n",
        "\n",
        "snowBallStemmer = SnowballStemmer(\"english\", ignore_stopwords=True)\n",
        "from nltk.stem.lancaster import *\n",
        "\n",
        "lancasterStemmer = LancasterStemmer()\n",
        "def prepro(listword:list)->list:\n",
        "    temp= [stemmer.stem(i) for i in listword]\n",
        "    #lem = [lemmatizer.lemmatize(w) for w in temp]\n",
        "    #s = [word for word in lem if word not in st]\n",
        "    sn = [snowBallStemmer.stem(word) for word in temp]#lem]\n",
        "    la = [lancasterStemmer.stem(i) for i in sn]\n",
        "    return [i for i in listword]"
      ],
      "execution_count": 0,
      "outputs": []
    },
    {
      "cell_type": "code",
      "metadata": {
        "id": "iLlOx_wCbAjS",
        "colab_type": "code",
        "colab": {}
      },
      "source": [
        "def word_lemmatize(word,tag): # จัดการกับพวก -ing , ed V ช่อง 2 3\n",
        "  t_temp=None\n",
        "  if tag in ['VERB']:\n",
        "    t_temp='v'\n",
        "  elif tag in ['NOUN']:\n",
        "    t_temp='n'\n",
        "  elif tag in ['ADV']:\n",
        "    t_temp = \"r\"\n",
        "  elif tag in ['ADJ']:\n",
        "    t_temp = \"a\"\n",
        "  if t_temp!=None:\n",
        "    return lemmatizer.lemmatize(word,t_temp)\n",
        "  else:\n",
        "    return word"
      ],
      "execution_count": 0,
      "outputs": []
    },
    {
      "cell_type": "code",
      "metadata": {
        "id": "8oZeFtFWNAsX",
        "colab_type": "code",
        "colab": {}
      },
      "source": [
        "import copy\n",
        "from inflector import Inflector, English\n",
        "inf = Inflector(English)\n",
        "def totag(one_t:tuple)->tuple: # จัดการกับคำ (คำ, postag)\n",
        "  t = list(copy.copy(one_t))\n",
        "  temp = list(copy.copy(t))\n",
        "  temp[0] = temp[0].lower()\n",
        "  temp[0] = word_lemmatize(temp[0],temp[1])\n",
        "  t[0] = word_lemmatize(t[0],t[1])\n",
        "  #print(temp)\n",
        "  if temp[1] not in list(tag2lexitron.keys()):\n",
        "    return temp\n",
        "  temp[1] = tag2lexitron[temp[1]]\n",
        "  if temp[0] in list(eng2thai.keys()):\n",
        "    if t[1] in list(eng2thai[temp[0]].keys()):\n",
        "      temp[0] = eng2thai[temp[0]][t[1]]\n",
        "  elif temp[1] == \"VERB\":\n",
        "    temp[0] = word2thai(temp[0],\"VT\")\n",
        "    print(\"V\",str(temp[0]),t[0])\n",
        "    if temp[0] == None:\n",
        "      temp[0] = word2thai(t[0],\"VI\")\n",
        "  elif temp[1] != '':\n",
        "    temp[0] = word2thai(t[0],temp[1])\n",
        "    print(str(temp[0]),temp[1])\n",
        "  if temp[0] == None and t[0] in list(eng2thai.keys()):\n",
        "    if t[1] in list(eng2thai[t[0]].keys()):\n",
        "      temp[0] = eng2thai[t[0]][t[1]]\n",
        "  elif temp[0] == None and t[1] == 'NOUN':\n",
        "    temp[0] = inf.singularize(t[0])\n",
        "    if temp[0] in list(eng2thai.keys()):\n",
        "      if t[1] in list(eng2thai[temp[0]].keys()):\n",
        "        temp[0] = eng2thai[temp[0]][t[1]]\n",
        "      else:\n",
        "        temp[0] = word2thai(temp[0],temp[1])\n",
        "    else:\n",
        "      temp[0] = word2thai(temp[0],temp[1])\n",
        "  elif temp[0] == None:\n",
        "    print(str(t[0]),temp[1])\n",
        "    temp[0] = word2thai(t[0],temp[1])\n",
        "    if temp[0] == None:\n",
        "      temp[0] = word2thai(t[0],'')\n",
        "  if temp[0] == None:\n",
        "    temp[0] = t[0]\n",
        "  return (temp[0],t[1])"
      ],
      "execution_count": 0,
      "outputs": []
    },
    {
      "cell_type": "code",
      "metadata": {
        "id": "kT85lXK7Oeo8",
        "colab_type": "code",
        "outputId": "75f30ae1-2d44-4338-b9f7-5e79927b99bf",
        "colab": {
          "base_uri": "https://localhost:8080/",
          "height": 52
        }
      },
      "source": [
        "totag(('cat', 'NOUN'))"
      ],
      "execution_count": 0,
      "outputs": [
        {
          "output_type": "stream",
          "text": [
            "แมว N\n"
          ],
          "name": "stdout"
        },
        {
          "output_type": "execute_result",
          "data": {
            "text/plain": [
              "('แมว', 'NOUN')"
            ]
          },
          "metadata": {
            "tags": []
          },
          "execution_count": 321
        }
      ]
    },
    {
      "cell_type": "code",
      "metadata": {
        "id": "8k9EwBiZYhfY",
        "colab_type": "code",
        "outputId": "5f054430-d2cf-4b5f-8c48-31bbc5713f80",
        "colab": {
          "base_uri": "https://localhost:8080/",
          "height": 34
        }
      },
      "source": [
        "totag(('play', 'VERB'))"
      ],
      "execution_count": 0,
      "outputs": [
        {
          "output_type": "execute_result",
          "data": {
            "text/plain": [
              "('เล่น', 'VERB')"
            ]
          },
          "metadata": {
            "tags": []
          },
          "execution_count": 322
        }
      ]
    },
    {
      "cell_type": "code",
      "metadata": {
        "id": "ctnTwV3yPtft",
        "colab_type": "code",
        "colab": {}
      },
      "source": [
        "import contractions\n",
        "def translate(sent:str)->list: # แปลประโยค\n",
        "  word_cut = nltk.word_tokenize(contractions.fix(sent))\n",
        "  phrases_cut = [i.replace(\"_\",\" \") for i in tokenizer.tokenize(word_cut)]\n",
        "  t = pos_tag(prepro(phrases_cut),tagset='universal')\n",
        "  print(t)\n",
        "  tt = \"\"\n",
        "  temp = [totag(i) for i in t]\n",
        "  #print(temp)\n",
        "  tt = sent2thai([(str(i[0]),i[1]) for i in temp])\n",
        "  return ' '.join(tt)"
      ],
      "execution_count": 0,
      "outputs": []
    },
    {
      "cell_type": "code",
      "metadata": {
        "id": "m5EI3QeiSIWV",
        "colab_type": "code",
        "outputId": "24f05e5a-a085-49e2-9b1c-b1c39a2b6a23",
        "colab": {
          "base_uri": "https://localhost:8080/",
          "height": 104
        }
      },
      "source": [
        "translate(\"What is this ?\")"
      ],
      "execution_count": 0,
      "outputs": [
        {
          "output_type": "stream",
          "text": [
            "[('What', 'PRON'), ('is', 'VERB'), ('this', 'DET'), ('?', '.')]\n",
            "อะไร PRON\n",
            "PRON VERB DET .\n",
            "D E T   V E R B   P R O N\n"
          ],
          "name": "stdout"
        },
        {
          "output_type": "execute_result",
          "data": {
            "text/plain": [
              "'สิ่งนี้ เป็น อะไร'"
            ]
          },
          "metadata": {
            "tags": []
          },
          "execution_count": 324
        }
      ]
    },
    {
      "cell_type": "code",
      "metadata": {
        "id": "DSozfxaHWGoB",
        "colab_type": "code",
        "outputId": "56a9a661-d972-4d26-ad76-f0589a58be22",
        "colab": {
          "base_uri": "https://localhost:8080/",
          "height": 121
        }
      },
      "source": [
        "translate(\"I study at khon kaen university.\")"
      ],
      "execution_count": 0,
      "outputs": [
        {
          "output_type": "stream",
          "text": [
            "[('I', 'PRON'), ('study', 'VERB'), ('at', 'ADP'), ('khon kaen university', 'NOUN'), ('.', '.')]\n",
            "None PRON\n",
            "V ศึกษา study\n",
            "PRON VERB ADP NOUN .\n",
            "P R O N   V E R B   A D P   N O U N   .\n"
          ],
          "name": "stdout"
        },
        {
          "output_type": "execute_result",
          "data": {
            "text/plain": [
              "'ฉัน ศึกษา ที่ มหาวิทยาลัยขอนแก่น '"
            ]
          },
          "metadata": {
            "tags": []
          },
          "execution_count": 325
        }
      ]
    },
    {
      "cell_type": "code",
      "metadata": {
        "id": "9ILWr5U5W3d9",
        "colab_type": "code",
        "outputId": "d61f1a16-4f35-4fd5-f005-667f9e7a22e1",
        "colab": {
          "base_uri": "https://localhost:8080/",
          "height": 139
        }
      },
      "source": [
        "translate(\"I study at KKU.\")"
      ],
      "execution_count": 0,
      "outputs": [
        {
          "output_type": "stream",
          "text": [
            "[('I', 'PRON'), ('study', 'VERB'), ('at', 'ADP'), ('KKU', 'NOUN'), ('.', '.')]\n",
            "None PRON\n",
            "V ศึกษา study\n",
            "None N\n",
            "PRON VERB ADP NOUN .\n",
            "P R O N   V E R B   A D P   N O U N   .\n"
          ],
          "name": "stdout"
        },
        {
          "output_type": "execute_result",
          "data": {
            "text/plain": [
              "'ฉัน ศึกษา ที่ มข. '"
            ]
          },
          "metadata": {
            "tags": []
          },
          "execution_count": 326
        }
      ]
    },
    {
      "cell_type": "code",
      "metadata": {
        "id": "XvLoJYdkQHv_",
        "colab_type": "code",
        "outputId": "afb46c40-7e1f-4a8f-e793-58d02ba3ffb2",
        "colab": {
          "base_uri": "https://localhost:8080/",
          "height": 156
        }
      },
      "source": [
        "translate(\"John wears red shoe.\")"
      ],
      "execution_count": 0,
      "outputs": [
        {
          "output_type": "stream",
          "text": [
            "[('John', 'NOUN'), ('wears', 'NOUN'), ('red', 'ADJ'), ('shoe', 'NOUN'), ('.', '.')]\n",
            "None N\n",
            "None ADJ\n",
            "red ADJ\n",
            "รองเท้า N\n",
            "NOUN NOUN2 ADJ NOUN3 .\n",
            "N O U N   N O U N 2   N O U N 3   A D J\n"
          ],
          "name": "stdout"
        },
        {
          "output_type": "execute_result",
          "data": {
            "text/plain": [
              "'John wear รองเท้า สีแดง'"
            ]
          },
          "metadata": {
            "tags": []
          },
          "execution_count": 327
        }
      ]
    },
    {
      "cell_type": "code",
      "metadata": {
        "id": "MQq0kdtFuBnQ",
        "colab_type": "code",
        "outputId": "82a54fc1-819f-4ac5-f77a-ce66c3f0e1ff",
        "colab": {
          "base_uri": "https://localhost:8080/",
          "height": 121
        }
      },
      "source": [
        "translate(\"you writeing book.\")"
      ],
      "execution_count": 0,
      "outputs": [
        {
          "output_type": "stream",
          "text": [
            "[('you', 'PRON'), ('writeing', 'VERB'), ('book', 'NOUN'), ('.', '.')]\n",
            "V เขียน write\n",
            "หนังสือ N\n",
            "PRON VERB NOUN .\n",
            "P R O N   V E R B   N O U N\n"
          ],
          "name": "stdout"
        },
        {
          "output_type": "execute_result",
          "data": {
            "text/plain": [
              "'คุณ เขียน หนังสือ'"
            ]
          },
          "metadata": {
            "tags": []
          },
          "execution_count": 328
        }
      ]
    },
    {
      "cell_type": "code",
      "metadata": {
        "id": "nVyDGoAK2jAf",
        "colab_type": "code",
        "outputId": "bff913ed-79bb-4ec2-9b17-8873488d8a13",
        "colab": {
          "base_uri": "https://localhost:8080/",
          "height": 121
        }
      },
      "source": [
        "translate(\"my dogs running.\")"
      ],
      "execution_count": 0,
      "outputs": [
        {
          "output_type": "stream",
          "text": [
            "[('my', 'PRON'), ('dogs', 'NOUN'), ('running', 'VERB'), ('.', '.')]\n",
            "ของฉัน PRON\n",
            "V วิ่งแข่ง run\n",
            "PRON NOUN VERB .\n",
            "N O U N   P R O N   V E R B\n"
          ],
          "name": "stdout"
        },
        {
          "output_type": "execute_result",
          "data": {
            "text/plain": [
              "'สุนัข ของฉัน วิ่งแข่ง'"
            ]
          },
          "metadata": {
            "tags": []
          },
          "execution_count": 329
        }
      ]
    },
    {
      "cell_type": "code",
      "metadata": {
        "id": "ap_RUTYQ9Jov",
        "colab_type": "code",
        "outputId": "04543c13-cef3-4180-ea9a-4a77ee576b9e",
        "colab": {
          "base_uri": "https://localhost:8080/",
          "height": 139
        }
      },
      "source": [
        "translate(\"I got money 50 baht.\")"
      ],
      "execution_count": 0,
      "outputs": [
        {
          "output_type": "stream",
          "text": [
            "[('I', 'PRON'), ('got', 'VERB'), ('money', 'NOUN'), ('50', 'NUM'), ('baht', 'NOUN'), ('.', '.')]\n",
            "None PRON\n",
            "V ได้ get\n",
            "เงิน N\n",
            "PRON VERB NOUN NUM NOUN2 .\n",
            "P R O N   V E R B   N O U N   N U M   N O U N 2   .\n"
          ],
          "name": "stdout"
        },
        {
          "output_type": "execute_result",
          "data": {
            "text/plain": [
              "'ฉัน ได้ เงิน 50 บาท '"
            ]
          },
          "metadata": {
            "tags": []
          },
          "execution_count": 330
        }
      ]
    },
    {
      "cell_type": "code",
      "metadata": {
        "id": "p_6GzEAMu2uE",
        "colab_type": "code",
        "outputId": "15d6f0e7-e1e4-45d5-cf95-8075f017a060",
        "colab": {
          "base_uri": "https://localhost:8080/",
          "height": 156
        }
      },
      "source": [
        "translate(\"I sleep at my school.\")"
      ],
      "execution_count": 0,
      "outputs": [
        {
          "output_type": "stream",
          "text": [
            "[('I', 'PRON'), ('sleep', 'VERB'), ('at', 'ADP'), ('my', 'PRON'), ('school', 'NOUN'), ('.', '.')]\n",
            "None PRON\n",
            "V None sleep\n",
            "ของฉัน PRON\n",
            "โรงเรียน N\n",
            "PRON VERB ADP PRON2 NOUN .\n",
            "P R O N   V E R B   A D P   N O U N   P R O N 2\n"
          ],
          "name": "stdout"
        },
        {
          "output_type": "execute_result",
          "data": {
            "text/plain": [
              "'ฉัน หลับ ที่ โรงเรียน ของฉัน'"
            ]
          },
          "metadata": {
            "tags": []
          },
          "execution_count": 331
        }
      ]
    },
    {
      "cell_type": "code",
      "metadata": {
        "id": "uxjUrGiWwk-n",
        "colab_type": "code",
        "outputId": "0deddeb4-238b-422f-c836-b746993efd23",
        "colab": {
          "base_uri": "https://localhost:8080/",
          "height": 173
        }
      },
      "source": [
        "translate(\"She eating bread in the morning.\")"
      ],
      "execution_count": 0,
      "outputs": [
        {
          "output_type": "stream",
          "text": [
            "[('She', 'PRON'), ('eating', 'VERB'), ('bread', 'NOUN'), ('in', 'ADP'), ('the', 'DET'), ('morning', 'NOUN'), ('.', '.')]\n",
            "เธอ PRON\n",
            "V กัดกิน eat\n",
            "ขนมปัง N\n",
            "ใน PREP\n",
            "ตอนเช้า N\n",
            "PRON VERB NOUN ADP DET NOUN2 .\n",
            "P R O N   V E R B   N O U N   A D P   D E T   N O U N 2   .\n"
          ],
          "name": "stdout"
        },
        {
          "output_type": "execute_result",
          "data": {
            "text/plain": [
              "'เธอ กัดกิน ขนมปัง ใน  ตอนเช้า '"
            ]
          },
          "metadata": {
            "tags": []
          },
          "execution_count": 332
        }
      ]
    },
    {
      "cell_type": "code",
      "metadata": {
        "id": "1OxAysTUsm_L",
        "colab_type": "code",
        "outputId": "dca91938-5afd-4b4f-9dfb-5b1a0ae22dea",
        "colab": {
          "base_uri": "https://localhost:8080/",
          "height": 208
        }
      },
      "source": [
        "translate(\"an old man went to nongkhai yesterday.\")"
      ],
      "execution_count": 0,
      "outputs": [
        {
          "output_type": "stream",
          "text": [
            "[('an', 'DET'), ('old', 'ADJ'), ('man', 'NOUN'), ('went', 'VERB'), ('to', 'PRT'), ('nongkhai', 'VERB'), ('yesterday', 'NOUN'), ('.', '.')]\n",
            "None DET\n",
            "an DET\n",
            "แก่ ADJ\n",
            "ผู้ชาย N\n",
            "V None go\n",
            "ไปถึง PREP\n",
            "วานนี้ N\n",
            "DET ADJ NOUN VERB PRT VERB2 NOUN2 .\n",
            "N O U N   A D J   V E R B   V E R B 2   N O U N 2\n"
          ],
          "name": "stdout"
        },
        {
          "output_type": "execute_result",
          "data": {
            "text/plain": [
              "'ผู้ชาย แก่ ไป จังหวัดหนองคาย วานนี้'"
            ]
          },
          "metadata": {
            "tags": []
          },
          "execution_count": 360
        }
      ]
    }
  ]
}